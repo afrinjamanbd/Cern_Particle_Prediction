{
 "cells": [
  {
   "cell_type": "code",
   "execution_count": 12,
   "metadata": {},
   "outputs": [],
   "source": [
    "import pandas as pd\n",
    "import numpy as np\n",
    "import seaborn as sns\n",
    "from matplotlib import pyplot as plt\n",
    "%matplotlib inline\n",
    "traineventcell = pd.read_csv(\"../Dataset/CernDataset/train_sample/train_100_events/event000001000-cells.csv\")\n",
    "traineventthits = pd.read_csv(\"../Dataset/CernDataset/train_sample/train_100_events/event000001000-hits.csv\")\n",
    "traineventparticles = pd.read_csv(\"../Dataset/CernDataset/train_sample/train_100_events/event000001000-particles.csv\")\n",
    "traineventtruth = pd.read_csv(\"../Dataset/CernDataset/train_sample/train_100_events/event000001000-truth.csv\")"
   ]
  },
  {
   "cell_type": "code",
   "execution_count": 13,
   "metadata": {},
   "outputs": [
    {
     "data": {
      "text/plain": [
       "<AxesSubplot:>"
      ]
     },
     "execution_count": 13,
     "metadata": {},
     "output_type": "execute_result"
    },
    {
     "data": {
      "image/png": "[encoded data removed]",
      "text/plain": [
       "<Figure size 432x288 with 1 Axes>"
      ]
     },
     "metadata": {
      "needs_background": "light"
     },
     "output_type": "display_data"
    }
   ],
   "source": [
    "sns.heatmap(traineventcell.isnull(),yticklabels=False,cbar=False,cmap='viridis')\n",
    "# No imputaion needed"
   ]
  },
  {
   "cell_type": "code",
   "execution_count": 14,
   "metadata": {},
   "outputs": [
    {
     "data": {
      "text/plain": [
       "<AxesSubplot:>"
      ]
     },
     "execution_count": 14,
     "metadata": {},
     "output_type": "execute_result"
    },
    {
     "data": {
      "image/png": "[encoded data removed]",
      "text/plain": [
       "<Figure size 432x288 with 1 Axes>"
      ]
     },
     "metadata": {
      "needs_background": "light"
     },
     "output_type": "display_data"
    }
   ],
   "source": [
    "sns.heatmap(traineventthits.isnull(),yticklabels=False,cbar=False,cmap='viridis')\n",
    "# No imputaion needed"
   ]
  },
  {
   "cell_type": "code",
   "execution_count": 15,
   "metadata": {},
   "outputs": [
    {
     "data": {
      "text/plain": [
       "<AxesSubplot:>"
      ]
     },
     "execution_count": 15,
     "metadata": {},
     "output_type": "execute_result"
    },
    {
     "data": {
      "image/png": "[encoded data removed]",
      "text/plain": [
       "<Figure size 432x288 with 1 Axes>"
      ]
     },
     "metadata": {
      "needs_background": "light"
     },
     "output_type": "display_data"
    }
   ],
   "source": [
    "sns.heatmap(traineventparticles.isnull(),yticklabels=False,cbar=False,cmap='viridis')\n",
    "# No imputaion needed"
   ]
  },
  {
   "cell_type": "code",
   "execution_count": 16,
   "metadata": {},
   "outputs": [
    {
     "data": {
      "text/plain": [
       "<AxesSubplot:>"
      ]
     },
     "execution_count": 16,
     "metadata": {},
     "output_type": "execute_result"
    },
    {
     "data": {
      "image/png": "[encoded data removed]",
      "text/plain": [
       "<Figure size 432x288 with 1 Axes>"
      ]
     },
     "metadata": {
      "needs_background": "light"
     },
     "output_type": "display_data"
    }
   ],
   "source": [
    "sns.heatmap(traineventtruth.isnull(),yticklabels=False,cbar=False,cmap='viridis')\n",
    "# No imputaion needed"
   ]
  },
  {
   "cell_type": "code",
   "execution_count": 17,
   "metadata": {},
   "outputs": [
    {
     "name": "stdout",
     "output_type": "stream",
     "text": [
      "<class 'pandas.core.frame.DataFrame'>\n",
      "RangeIndex: 664996 entries, 0 to 664995\n",
      "Data columns (total 4 columns):\n",
      " #   Column  Non-Null Count   Dtype  \n",
      "---  ------  --------------   -----  \n",
      " 0   hit_id  664996 non-null  int64  \n",
      " 1   ch0     664996 non-null  int64  \n",
      " 2   ch1     664996 non-null  int64  \n",
      " 3   value   664996 non-null  float64\n",
      "dtypes: float64(1), int64(3)\n",
      "memory usage: 20.3 MB\n"
     ]
    }
   ],
   "source": [
    "traineventcell.info()"
   ]
  },
  {
   "cell_type": "code",
   "execution_count": 20,
   "metadata": {},
   "outputs": [
    {
     "name": "stdout",
     "output_type": "stream",
     "text": [
      "<class 'pandas.core.frame.DataFrame'>\n",
      "RangeIndex: 120939 entries, 0 to 120938\n",
      "Data columns (total 7 columns):\n",
      " #   Column     Non-Null Count   Dtype  \n",
      "---  ------     --------------   -----  \n",
      " 0   hit_id     120939 non-null  int64  \n",
      " 1   x          120939 non-null  float64\n",
      " 2   y          120939 non-null  float64\n",
      " 3   z          120939 non-null  float64\n",
      " 4   volume_id  120939 non-null  int64  \n",
      " 5   layer_id   120939 non-null  int64  \n",
      " 6   module_id  120939 non-null  int64  \n",
      "dtypes: float64(3), int64(4)\n",
      "memory usage: 6.5 MB\n"
     ]
    }
   ],
   "source": [
    "traineventthits.info()"
   ]
  },
  {
   "cell_type": "code",
   "execution_count": 21,
   "metadata": {},
   "outputs": [
    {
     "name": "stdout",
     "output_type": "stream",
     "text": [
      "<class 'pandas.core.frame.DataFrame'>\n",
      "RangeIndex: 12263 entries, 0 to 12262\n",
      "Data columns (total 9 columns):\n",
      " #   Column       Non-Null Count  Dtype  \n",
      "---  ------       --------------  -----  \n",
      " 0   particle_id  12263 non-null  int64  \n",
      " 1   vx           12263 non-null  float64\n",
      " 2   vy           12263 non-null  float64\n",
      " 3   vz           12263 non-null  float64\n",
      " 4   px           12263 non-null  float64\n",
      " 5   py           12263 non-null  float64\n",
      " 6   pz           12263 non-null  float64\n",
      " 7   q            12263 non-null  int64  \n",
      " 8   nhits        12263 non-null  int64  \n",
      "dtypes: float64(6), int64(3)\n",
      "memory usage: 862.4 KB\n"
     ]
    }
   ],
   "source": [
    "traineventparticles.info()"
   ]
  },
  {
   "cell_type": "code",
   "execution_count": 22,
   "metadata": {},
   "outputs": [
    {
     "name": "stdout",
     "output_type": "stream",
     "text": [
      "<class 'pandas.core.frame.DataFrame'>\n",
      "RangeIndex: 120939 entries, 0 to 120938\n",
      "Data columns (total 9 columns):\n",
      " #   Column       Non-Null Count   Dtype  \n",
      "---  ------       --------------   -----  \n",
      " 0   hit_id       120939 non-null  int64  \n",
      " 1   particle_id  120939 non-null  int64  \n",
      " 2   tx           120939 non-null  float64\n",
      " 3   ty           120939 non-null  float64\n",
      " 4   tz           120939 non-null  float64\n",
      " 5   tpx          120939 non-null  float64\n",
      " 6   tpy          120939 non-null  float64\n",
      " 7   tpz          120939 non-null  float64\n",
      " 8   weight       120939 non-null  float64\n",
      "dtypes: float64(7), int64(2)\n",
      "memory usage: 8.3 MB\n"
     ]
    }
   ],
   "source": [
    "traineventtruth.info()"
   ]
  },
  {
   "cell_type": "code",
   "execution_count": null,
   "metadata": {},
   "outputs": [],
   "source": []
  }
 ],
 "metadata": {
  "kernelspec": {
   "display_name": "Python 3",
   "language": "python",
   "name": "python3"
  },
  "language_info": {
   "codemirror_mode": {
    "name": "ipython",
    "version": 3
   },
   "file_extension": ".py",
   "mimetype": "text/x-python",
   "name": "python",
   "nbconvert_exporter": "python",
   "pygments_lexer": "ipython3",
   "version": "3.8.5"
  }
 },
 "nbformat": 4,
 "nbformat_minor": 4
}
